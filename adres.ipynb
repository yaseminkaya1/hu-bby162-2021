{
  "nbformat": 4,
  "nbformat_minor": 0,
  "metadata": {
    "colab": {
      "name": "adres.ipynb",
      "provenance": [],
      "authorship_tag": "ABX9TyPK+6RK65atGESJ0IY3/1gq",
      "include_colab_link": true
    },
    "kernelspec": {
      "name": "python3",
      "display_name": "Python 3"
    },
    "language_info": {
      "name": "python"
    }
  },
  "cells": [
    {
      "cell_type": "markdown",
      "metadata": {
        "id": "view-in-github",
        "colab_type": "text"
      },
      "source": [
        "<a href=\"https://colab.research.google.com/github/yaseminkaya1/hu-bby162-2021/blob/main/adres.ipynb\" target=\"_parent\"><img src=\"https://colab.research.google.com/assets/colab-badge.svg\" alt=\"Open In Colab\"/></a>"
      ]
    },
    {
      "cell_type": "code",
      "metadata": {
        "colab": {
          "base_uri": "https://localhost:8080/"
        },
        "id": "RRcEGL7NZ4f2",
        "outputId": "c57895d4-f04a-4736-be5e-a14d8327497a"
      },
      "source": [
        "dosya = \"/content/adres.txt\"\n",
        "f = open(dosya, 'a')\n",
        "bilgiler = input(\"İstenilen bilgi\")\n",
        "f.write (bilgiler + \"\\n\")\n",
        "f.close()\n",
        "f = open(dosya, 'r')\n",
        "for line in f. readlines():\n",
        "  print(line)\n",
        "f.close()"
      ],
      "execution_count": 2,
      "outputs": [
        {
          "output_type": "stream",
          "text": [
            "İstenilen bilgiYasemin Kaya\n",
            "yaseminkaya.im@gmail.com\n",
            "\n",
            "Yasemin Kaya\n",
            "\n"
          ],
          "name": "stdout"
        }
      ]
    }
  ]
}