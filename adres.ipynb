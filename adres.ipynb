{
  "nbformat": 4,
  "nbformat_minor": 0,
  "metadata": {
    "colab": {
      "name": "adres.ipynb",
      "provenance": [],
      "mount_file_id": "1EHvg1HjhC3Mr874RXtbjfbsWjiHEyV6G",
      "authorship_tag": "ABX9TyP+PuMG+gvVElk3LHFkc20P",
      "include_colab_link": true
    },
    "kernelspec": {
      "name": "python3",
      "display_name": "Python 3"
    },
    "language_info": {
      "name": "python"
    }
  },
  "cells": [
    {
      "cell_type": "markdown",
      "metadata": {
        "id": "view-in-github",
        "colab_type": "text"
      },
      "source": [
        "<a href=\"https://colab.research.google.com/github/yaseminkaya1/hu-bby162-2021/blob/main/adres.ipynb\" target=\"_parent\"><img src=\"https://colab.research.google.com/assets/colab-badge.svg\" alt=\"Open In Colab\"/></a>"
      ]
    },
    {
      "cell_type": "code",
      "metadata": {
        "colab": {
          "base_uri": "https://localhost:8080/"
        },
        "id": "RRcEGL7NZ4f2",
        "outputId": "6f304b9f-9c84-4c92-9d72-653632ea7ebd"
      },
      "source": [
        "dosya = \"/content/drive/MyDrive/Colab Notebooks/HU-BBY162-2021/metin.txt\"\n",
        "\n",
        "adSoyad = input(\"Ad soyad giriniz: \")\n",
        "eposta = input(\"E-posta adresi giriniz: \")\n",
        "\n",
        "f = open(dosya, 'w') \n",
        "f.write(adSoyad + \" I \" + eposta + \"\\n\") \n",
        "f.close()\n",
        "\n",
        "dosya = \"/content/drive/MyDrive/Colab Notebooks/HU-BBY162-2021/metin.txt\"\n",
        "\n",
        "f = open(dosya, \"r\") \n",
        "\n",
        "for line in f.readlines():\n",
        "    print(line)\n",
        "\n",
        "f.close()"
      ],
      "execution_count": 2,
      "outputs": [
        {
          "output_type": "stream",
          "text": [
            "Ad soyad giriniz: yasemin kaya\n",
            "E-posta adresi giriniz: yaseminkaya.im@gmail.com\n",
            "yasemin kaya I yaseminkaya.im@gmail.com\n",
            "\n"
          ],
          "name": "stdout"
        }
      ]
    }
  ]
}