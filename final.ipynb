{
  "nbformat": 4,
  "nbformat_minor": 0,
  "metadata": {
    "colab": {
      "name": "final.ipynb",
      "provenance": [],
      "mount_file_id": "1YyTu5PuIBdBeNZcBRF976Sp4bcgwmS5s",
      "authorship_tag": "ABX9TyOMFAZehRvt2BJ3dqJFBWMu",
      "include_colab_link": true
    },
    "kernelspec": {
      "name": "python3",
      "display_name": "Python 3"
    },
    "language_info": {
      "name": "python"
    }
  },
  "cells": [
    {
      "cell_type": "markdown",
      "metadata": {
        "id": "view-in-github",
        "colab_type": "text"
      },
      "source": [
        "<a href=\"https://colab.research.google.com/github/yaseminkaya1/hu-bby162-2021/blob/main/final.ipynb\" target=\"_parent\"><img src=\"https://colab.research.google.com/assets/colab-badge.svg\" alt=\"Open In Colab\"/></a>"
      ]
    },
    {
      "cell_type": "code",
      "metadata": {
        "colab": {
          "base_uri": "https://localhost:8080/"
        },
        "id": "wNdWM196ZOw6",
        "outputId": "78f54336-3c58-4e08-a30d-62b8e772cffa"
      },
      "source": [
        "#Kütüphane Otomasyonu\n",
        "#Veri Tabanı: /content/drive/MyDrive/Colab Notebooks/HU-BBY162-2021/final.txt\n",
        "\n",
        "dosya = \"/content/drive/MyDrive/Colab Notebooks/HU-BBY162-2021/final.txt\"\n",
        "print(\"Kütüphane insanın yıldızlara tırmanmaya niyet ettiği bir rasathanedir.\")\n",
        "print(\"Hoş Geldiniz!\")\n",
        "\n",
        "def kaynakListele():\n",
        "  f = open(dosya, 'r')\n",
        "  for line in f.readlines():\n",
        "    print(line)\n",
        "  f.close()\n",
        "\n",
        "def kaynakKaydet():\n",
        "  kaynakAdi = input(\"Kaynağın başlığını giriniz: \")\n",
        "  kaynakYazari = input(\"Yazar bilgisini giriniz: \")\n",
        "  kaynakYayinevi = input(\"Yayınevi bilgisini giriniz: \")\n",
        "  kaynakBasimYili = input (\"Yayın yılı bilgisini giriniz: \")\n",
        "  kaynakIsbn = input(\"ISBN bilgilerini giriniz: \")\n",
        "  f = open(dosya, 'a' )\n",
        "  f.write(kaynakAdi + \" , \" + kaynakYazari + \" , \" + kaynakYayinevi + \" , \" + kaynakIsbn + '\\n')\n",
        "  print(\"Kaynak başarıyla eklendi.\")\n",
        "  f.close()\n",
        "  \n",
        "islemSecme = [\"listele\", \"kaydet\", \"çıkış\"]\n",
        "while islemSecme:\n",
        "  girilen_islem = input(\"Katalogdaki eser listesini görüntülemek için 'listele' yazınız. \\n\"\n",
        "      \"Yeni eser kaydı eklemek için 'kaydet' yazınız.\\n\"     \n",
        "      \"Sistemden çıkmak için 'çıkış' yazınız.\\n\"\n",
        "      \"Tüm alanlarda aranacak kelimeyi giriniz: \")\n",
        "  \n",
        "  if girilen_islem == islemSecme[0]:\n",
        "    print(\"Hoş Geldiniz!\")\n",
        "    kaynakListele()\n",
        "  elif girilen_islem == islemSecme[1]:\n",
        "    print(\"Yeni bir kaynak kaydı giriniz.\")\n",
        "    kaynakKaydet()\n",
        "  elif girilen_islem == islemSecme[2]:\n",
        "    break\n"
      ],
      "execution_count": 1,
      "outputs": [
        {
          "output_type": "stream",
          "text": [
            "Kütüphane insanın yıldızlara tırmanmaya niyet ettiği bir rasathanedir.\n",
            "Hoş Geldiniz!\n",
            "Katalogdaki eser listesini görüntülemek için 'listele' yazınız. \n",
            "Yeni eser kaydı eklemek için 'kaydet' yazınız.\n",
            "Sistemden çıkmak için 'çıkış' yazınız.\n",
            "Tüm alanlarda aranacak kelimeyi giriniz: listele\n",
            "Hoş Geldiniz!\n",
            "puslu kıtalar atlası,ihsan oktay anar,iletişim,2020,9789754704723\n",
            "\n",
            "otomatik portakal,anthony burgess,iş bankası,2009,9789944885706\n",
            "\n",
            "martin eden,jack london,iş bankası,2020,9786053322122\n",
            "\n",
            "mecburiyet,stefan zweig, iş bankası,2021,9786052951606\n",
            "\n",
            "kırmızı pazartesi,gabriel garcia marquez,can,2011,9789750721571\n",
            "\n",
            "suç ve ceza , puslu kıtalar atlası , iş bankası , bitir\n",
            "\n",
            "suç ve ceza , dostoyevski , iş bankası , 27476236414682\n",
            "\n",
            "Katalogdaki eser listesini görüntülemek için 'listele' yazınız. \n",
            "Yeni eser kaydı eklemek için 'kaydet' yazınız.\n",
            "Sistemden çıkmak için 'çıkış' yazınız.\n",
            "Tüm alanlarda aranacak kelimeyi giriniz: kaydet\n",
            "Yeni bir kaynak kaydı giriniz.\n",
            "Kaynağın başlığını giriniz: suç ve ceza\n",
            "Yazar bilgisini giriniz: dostoyevski\n",
            "Yayınevi bilgisini giriniz: iş bankası\n",
            "Yayın yılı bilgisini giriniz: 2020\n",
            "ISBN bilgilerini giriniz: 487587837295\n",
            "Kaynak başarıyla eklendi.\n",
            "Katalogdaki eser listesini görüntülemek için 'listele' yazınız. \n",
            "Yeni eser kaydı eklemek için 'kaydet' yazınız.\n",
            "Sistemden çıkmak için 'çıkış' yazınız.\n",
            "Tüm alanlarda aranacak kelimeyi giriniz: çıkış\n"
          ],
          "name": "stdout"
        }
      ]
    }
  ]
}